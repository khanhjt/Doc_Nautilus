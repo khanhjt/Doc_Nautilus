{
  "nbformat": 4,
  "nbformat_minor": 0,
  "metadata": {
    "colab": {
      "provenance": []
    },
    "kernelspec": {
      "name": "python3",
      "display_name": "Python 3"
    },
    "language_info": {
      "name": "python"
    }
  },
  "cells": [
    {
      "cell_type": "markdown",
      "source": [
        "**Creat tensor**\n"
      ],
      "metadata": {
        "id": "V-zBUqVasNhK"
      }
    },
    {
      "cell_type": "code",
      "execution_count": null,
      "metadata": {
        "id": "v-glge-Ur9dE"
      },
      "outputs": [],
      "source": [
        "import torch\n",
        "import numpy as np\n",
        "\n",
        "# tạo một tensor từ list cho trước dùng torch.Tensor\n",
        "t = torch.Tensor([[1,2,3],[3,4,5]])\n",
        "#Tạo một Tensor với kích thước (2, 3) cho trước và có giá trị ngẫu nhiên tuân theo phân phối chuẩn với trung vị bằng 0 và phương sai bằng 1\n",
        "t = torch.randn(2, 3)\n",
        "# Tạo một Tensor với kích thước (2, 3) cho trước và tất cả phần tử có giá trị đều bằng 1\n",
        "t = torch.ones(2, 3)\n",
        "# Tạo một Tensor với kích thước (2, 3) cho trước và tất cả phần tử có giá trị đều bằng 0\n",
        "t = torch.zeros(2, 3)\n",
        "#Tạo một tensor có kích thước (2,3) với giá trị nằm trong khoảng từ 0->10\n",
        "t = torch.randint(low = 0,high = 10,size = (2,3))\n",
        "#Sử dụng torch.from_numpy để chuyển đổi từ Numpy array sang Tensor\n",
        "a = np.array([[1,2,3],[3,4,5]])\n",
        "t = torch.from_numpy(a)\n",
        "# Sử dụng .numpy() để chuyển đổi từ Tensor sang Numpy array\n",
        "t = t.numpy()"
      ]
    },
    {
      "cell_type": "markdown",
      "source": [
        "**các phương thức**"
      ],
      "metadata": {
        "id": "wwpSW4d0tdu2"
      }
    },
    {
      "cell_type": "code",
      "source": [
        "A = torch.randn(2,4)\n",
        "W = torch.randn(4,3)\n",
        "#Nhân 2 ma trận sử dụng .mm\n",
        "t = A.mm(W)\n",
        "print(t)\n",
        "#Ma trận chuyển vị\n",
        "t = t.t()\n",
        "print(t.shape)\n",
        "#Bình phương mỗi giá trị trong Tensor\n",
        "t = t**2\n",
        "print(t)\n",
        "#Trả về  size của Tensor\n",
        "t_size = t.size()\n",
        "print(t_size)\n",
        "#Duỗi Tensor có kích thước (a,b) thành (1,a*b)\n",
        "t = t.flatten()\n",
        "print(t)\n",
        "\n",
        "#Thêm 1 chiều với dim bằng 0 cho Tensor\n",
        "t = t.unsqueeze(0)\n",
        "print(t.shape)\n",
        "#Giảm 1 chiều với dim bằng 0 cho Tensor\n",
        "t = t.squeeze(0)\n",
        "print(t.shape)\n",
        "#hàm transpose có tác dụng đổi chiều dữ liệu ví dụ dữ liệu đang có shape=(224,224,3), sau khi thực hiện câu lệnh dưới sẽ thành (3,224,224)\n",
        "t = t.transpose(2,0,1)\n",
        "#hàm view có tác dụng giảm chiều dữ liệu ví dụ dữ liệu đang có shape = (3,224,224), sau khi thực hiện câu lệnh dưới sẽ thành (3,224*224)\n",
        "t = t.view(t.size(0),-1)\n"
      ],
      "metadata": {
        "id": "yULWubwVta2m"
      },
      "execution_count": null,
      "outputs": []
    },
    {
      "cell_type": "markdown",
      "source": [
        "**tạo model bằng pytorch**\n",
        "\n",
        "1. thừa kế lớp nn.Model thì tạo một mô hình học sâu dưới dạng một lớp, lớp này có 2 hàm int và forward:\n",
        "\n",
        "\n",
        "*   init: khởi tạo vag nhận các biến. vì class kế thừa từ nn.Model nên khi khởi tạo một đối tượng mới của class thì phải tạo lớp kế thừa trong hàm init -> super().__init__().\n",
        "*   forward: input ban đầu là dữ liệu, sau đó đi qua từng layer của model và trả về output của model.\n",
        "\n"
      ],
      "metadata": {
        "id": "B7D_M1z_t__Y"
      }
    },
    {
      "cell_type": "code",
      "source": [
        "class Mymodel(nn.Model):\n",
        "  def __init__(self):\n",
        "    super().__init__() # định nghĩa các layer\n",
        "    self.lin1 = nn.Linear(256,128)\n",
        "    self.lin2 = nn.Linear(128,10)\n",
        "  def forward(self, x):\n",
        "    # kết nối các layer lại với nhau\n",
        "    x = self.lin1(x)\n",
        "    x = self.lin2(x)\n",
        "    return x\n"
      ],
      "metadata": {
        "id": "yQ5PCT3ds6Gd"
      },
      "execution_count": null,
      "outputs": []
    },
    {
      "cell_type": "markdown",
      "source": [
        "gồm 2 lớp Fully Connected với đầu vào là 1 tensor có độ dài 256 và đầu ra là 10."
      ],
      "metadata": {
        "id": "8oyDweLPwFp7"
      }
    },
    {
      "cell_type": "markdown",
      "source": [
        "**Custom model**"
      ],
      "metadata": {
        "id": "im8AIlapwUfW"
      }
    },
    {
      "cell_type": "code",
      "source": [
        "class mymodel(nn.Model):\n",
        "  def __init__(self):\n",
        "    super().__init__()\n",
        "    self.layer1 = nn.Linear(256,128)\n",
        "    self.layer2 = nn.Linear(128,256)\n",
        "    self.layer3 = nn.Linear(128,10)\n",
        "\n",
        "  def forward(self,x):\n",
        "    x_out1 = self.layer1(x);\n",
        "    x_out2 = x + self.layrt2(x_out1)\n",
        "    x_out2 = self.layer1(x_out2)\n",
        "    x = self.layer3(x_out2)\n",
        "    return x"
      ],
      "metadata": {
        "id": "PlJMhZruwYIc"
      },
      "execution_count": null,
      "outputs": []
    },
    {
      "cell_type": "markdown",
      "source": [
        "**Mô hình classification đơn giản dùng transfer learning**\n"
      ],
      "metadata": {
        "id": "apFYmIcMx2id"
      }
    },
    {
      "cell_type": "code",
      "source": [
        "import torch.nn as nn\n",
        "import torchvision.models as models\n",
        "from torchvision.models import FasterRCNN\n",
        "\n",
        "class model(nn.Model):\n",
        "  def __init__(self, num_cls):\n",
        "    super().__init__()\n",
        "    self.num_cls = num_cls\n",
        "    backbone = models.resnet50(pretrained = True)\n",
        "    # load a model; pre-trained on COCO\n",
        "    # model = torchvision.models.detection.fasterrcnn_resnet50_fpn(pretrained=True)\n",
        "    self.model_backbone = nn.Sequential(*list(backbone.children()[:-1]))\n",
        "    # cắt bỏ các layer ko cần thiết\n",
        "    self.clf = nn.Sequential(\n",
        "        nn.Linear(2048,512),\n",
        "        nn.ReLU(),\n",
        "        nn.BatchNorm1d(512),\n",
        "        nn.Dropout(0.5),\n",
        "            nn.Linear(512,self.num_cls)\n",
        "        )\n",
        "  def forward(self,input):\n",
        "    output = self.model_backbone(input)\n",
        "    output = output.view(output.size(0),-1 )\n",
        "    output = self.clf(output)\n",
        "    return output"
      ],
      "metadata": {
        "id": "5poIa_Rlw_W-"
      },
      "execution_count": null,
      "outputs": []
    },
    {
      "cell_type": "code",
      "source": [
        "from torchvision.models import FasterRCNN\n",
        "# load a model; pre-trained on COCO\n",
        "model = torchvision.models.detection.fasterrcnn_resnet50_fpn(pretrained=True)\n",
        "num_classes = 2  # 1 class (wheat) + background\n",
        "\n",
        "# get number of input features for the classifier\n",
        "in_features = model.roi_heads.box_predictor.cls_score.in_features\n",
        "\n",
        "# replace the pre-trained head with a new one\n",
        "model.roi_heads.box_predictor = FastRCNNPredictor(in_features, num_classes)\n"
      ],
      "metadata": {
        "id": "yoyrhy84HnoS"
      },
      "execution_count": null,
      "outputs": []
    },
    {
      "cell_type": "code",
      "source": [
        "torch.nn.Conv2d(in_channels: int, out_channels: int, kernel_size: Union[T, Tuple[T, T]], stride: Union[T, Tuple[T, T]] = 1, padding: Union[T, Tuple[T, T]] = 0, dilation: Union[T, Tuple[T, T]] = 1, groups: int = 1, bias: bool = True, padding_mode: str = 'zeros')\n"
      ],
      "metadata": {
        "id": "ShtCfiWAIlEt"
      },
      "execution_count": null,
      "outputs": []
    },
    {
      "cell_type": "markdown",
      "source": [
        "**code một layer đơn giản và giải thích**"
      ],
      "metadata": {
        "id": "0hf2RlnOIpgS"
      }
    },
    {
      "cell_type": "code",
      "source": [
        "import torch.nn as nn\n",
        "import torch\n",
        "#Tạo một lớp Conv2d với đầu vào channals là 3, đầu ra là 256, với kernel có kích thước (3,3) và stride = 2\n",
        "layers =  nn.Conv2d(3,256,(3,3),2)\n",
        "#Mình sẽ tạo ngẫu nhiên một Tensor có chiều (3,256,256) để xem nó thay đổi như thế nào sau khi đi qua lớp Conv2d, kết quả sẽ được một Tensor có chiều (256,127,127)\n",
        "print(layers(torch.randn(1,3,256,256)).shape)\n"
      ],
      "metadata": {
        "colab": {
          "base_uri": "https://localhost:8080/"
        },
        "id": "Dh127WevIl7d",
        "outputId": "12b5c9a6-a145-44b8-e9a9-fda810c61a74"
      },
      "execution_count": null,
      "outputs": [
        {
          "output_type": "stream",
          "name": "stdout",
          "text": [
            "torch.Size([1, 256, 127, 127])\n"
          ]
        }
      ]
    },
    {
      "cell_type": "markdown",
      "source": [
        "**sử dụng thư viện torchvision.datasets.ImageFolder để tạo dataset:**"
      ],
      "metadata": {
        "id": "wY2YjlWJJC3T"
      }
    },
    {
      "cell_type": "code",
      "source": [
        "from torchvision import transforms\n",
        "from torchvision.datasets import ImageFolder\n",
        "traindir = \"data/train/\"\n",
        "t = transforms.Compose([\n",
        "    transforms.Resize(size = 256),\n",
        "    transforms.CenterCrop(size=224),\n",
        "    transforms.ToTensor()\n",
        "])\n",
        "train_dataset = ImageFolder(root=traindir, transform = t)\n",
        "print(\"so anh trong dataset: \", len(train_dataset))\n",
        "print(\"hinh anh va nhan: \", train_dataset[2])"
      ],
      "metadata": {
        "id": "DssVJ5GGIyiF"
      },
      "execution_count": null,
      "outputs": []
    },
    {
      "cell_type": "markdown",
      "source": [
        "**init : Là hàm khởi tạo, nhận vào các tham số và khởi tạo các tham số tương ứng**\n",
        "\n",
        "**len : Hàm trả về độ dài của dữ liệu**\n",
        "\n",
        "**getitem: nhận vào là index, chỉ số này nằm trong độ dài của dữ liệu. Hàm này mục tiêu để đọc dữ liệu, xử lí dữ liệu, nhãn và trả về dữ liệu chuẩn để đưa vào model.**"
      ],
      "metadata": {
        "id": "DnY3NQly0TEz"
      }
    },
    {
      "cell_type": "code",
      "source": [
        "class myDataset(Dataset):\n",
        "    def __init__(self,data_dict,trans = None):\n",
        "        super().__init__()\n",
        "        self.data_dict = data_dict\n",
        "        self.trans = trans\n",
        "\n",
        "    def __len__(self):\n",
        "        return len(self.data_dict)\n",
        "\n",
        "    def __getitem__(self,idx):\n",
        "        image_path = self.data_dict[idx]['data_link']\n",
        "        label= self.data_dict[idx]['label']\n",
        "        try:\n",
        "            image = cv2.imread(image_path)\n",
        "            image = cv2.cvtColor(image, cv2.COLOR_BGR2RGB)\n",
        "        except Exception as e:\n",
        "            print(e)\n",
        "        if self.trans:\n",
        "            transformed = self.trans(image=image)\n",
        "            image = transformed[\"image\"]\n",
        "        return image.float(), label\n"
      ],
      "metadata": {
        "id": "3i2tAaL1Kw99"
      },
      "execution_count": null,
      "outputs": []
    },
    {
      "cell_type": "markdown",
      "source": [
        "# Dataloader"
      ],
      "metadata": {
        "id": "Ayalm_ez04yf"
      }
    },
    {
      "cell_type": "code",
      "source": [
        "torch.utils.data.DataLoader(dataset, batch_size=1, shuffle=False, sampler=None, batch_sampler=None, num_workers=0, collate_fn=None, pin_memory=False, drop_last=False, timeout=0, worker_init_fn=None, multiprocessing_context=None, generator=None)\n"
      ],
      "metadata": {
        "id": "OBLWL1VV08ZM"
      },
      "execution_count": null,
      "outputs": []
    },
    {
      "cell_type": "markdown",
      "source": [
        "dataset :nhận vào class Dataset đã khởi tạo ở trên.\n",
        "\n",
        "batch_size: thể hiện bạn muốn dữ liệu cua bạn được generate theo batch bao nhiêu.\n",
        "\n",
        "num_workers: khi bạn muốn chạy nhiều tiến trình cùng một lúc tùy vào phần cứng của bạn.\n",
        "\n",
        "collate_fn: Hàm này để định nghĩa cách sắp xếp và kết nối dữ liệu và nhãn tương ứng theo từng lô dữ liệu."
      ],
      "metadata": {
        "id": "WS2TytZ51HCC"
      }
    },
    {
      "cell_type": "code",
      "source": [
        "trans = A.Compose([\n",
        "            A.RandomCrop(width=256, height=256),\n",
        "            A.HorizontalFlip(p=0.5),\n",
        "            A.RandomBrightnessContrast(p=0.2),\n",
        "            ToTensorV2(),\n",
        "        ])\n",
        "train_dataset = myDataset(data_dict=data_dict,trans=trans)\n",
        "train_dataloader = DataLoader(train_dataset,batch_size = 64, shuffle=True, num_workers=10)\n"
      ],
      "metadata": {
        "id": "IBZBryy81X9F"
      },
      "execution_count": null,
      "outputs": []
    },
    {
      "cell_type": "markdown",
      "source": [
        "# Huấn luyện mô hình"
      ],
      "metadata": {
        "id": "vTrWBXZR1b7Q"
      }
    },
    {
      "cell_type": "code",
      "source": [
        "num_epochs = 10\n",
        "for epoch in range(num_epochs):\n",
        "    #Thiết lập trạng thái huấn luyện cho mô hình\n",
        "    model.train()\n",
        "    for x_batch,y_batch in train_dataloader:\n",
        "        #xóa gradients\n",
        "        optimizer.zero_grad()\n",
        "        # Cho dữ liệu qua model và trả về output cần tìm\n",
        "        pred = model(x_batch)\n",
        "        # Tính toán giá trị lỗi và backpropagation\n",
        "        loss = loss_criterion(pred, y_batch)\n",
        "        loss.backward()\n",
        "        # Cập nhật trọng số\n",
        "        optimizer.step()\n",
        "    #Thiết lập trạng thái đánh giá cho mô hình, ở bước này thì mô hình không backward và cập nhật trọng số\n",
        "    model.eval()\n",
        "    for x_batch,y_batch in valid_dataloader:\n",
        "        pred = model(x_batch)\n",
        "        val_loss = loss_criterion(pred, y_batch)\n"
      ],
      "metadata": {
        "id": "1z9NjOZF1g6c"
      },
      "execution_count": null,
      "outputs": []
    },
    {
      "cell_type": "markdown",
      "source": [
        "**LOSS**"
      ],
      "metadata": {
        "id": "H21VMQP92Yvw"
      }
    },
    {
      "cell_type": "code",
      "source": [
        "def dice_loss(pred, target, smooth = 1.):\n",
        "    pred = pred.contiguous()\n",
        "    target = target.contiguous()\n",
        "\n",
        "    intersection = (pred * target).sum()\n",
        "\n",
        "    loss = (1 - ((2. * intersection + smooth) / (pred.sum() + target.sum() + smooth)))\n",
        "\n",
        "    return loss.mean()\n"
      ],
      "metadata": {
        "id": "PyCVydyK2dpJ"
      },
      "execution_count": null,
      "outputs": []
    },
    {
      "cell_type": "markdown",
      "source": [
        "kết hợp nhiều hàm loss lại với nhau"
      ],
      "metadata": {
        "id": "uOvSTJx12kTa"
      }
    },
    {
      "cell_type": "code",
      "source": [
        "def calc_loss(pred, target, metrics, bce_weight=0.5):\n",
        "\n",
        "    bce = F.binary_cross_entropy( pred, target)\n",
        "\n",
        "    dice = dice_loss(pred, target)\n",
        "\n",
        "    loss = bce * bce_weight + dice * (1 - bce_weight)\n",
        "\n",
        "    metrics['bce'] += bce.data.cpu().numpy() * target.size(0)\n",
        "    metrics['dice'] += dice.data.cpu().numpy() * target.size(0)\n",
        "    metrics['loss'] += loss.data.cpu().numpy() * target.size(0)\n",
        "\n",
        "    return loss\n",
        "\n"
      ],
      "metadata": {
        "id": "ANVzeqNE2oeJ"
      },
      "execution_count": null,
      "outputs": []
    },
    {
      "cell_type": "code",
      "source": [],
      "metadata": {
        "id": "uDgTwZMu2q9I"
      },
      "execution_count": null,
      "outputs": []
    }
  ]
}